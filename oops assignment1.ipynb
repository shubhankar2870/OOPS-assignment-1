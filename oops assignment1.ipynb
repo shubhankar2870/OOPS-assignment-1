{
 "cells": [
  {
   "cell_type": "raw",
   "id": "ee7b74ed-c52d-43dc-8c0d-6ea99f852032",
   "metadata": {},
   "source": [
    "Problem 1: Bank Account Create a class representing a bank account with attributes like account number, account holder name, and balance. Implement methods to deposit and withdraw money from the account."
   ]
  },
  {
   "cell_type": "code",
   "execution_count": 25,
   "id": "a539d4e8-9f27-49a1-a10e-306175542e1b",
   "metadata": {},
   "outputs": [],
   "source": [
    "class bank_account:\n",
    "    def __init__(self, account_no, account_holder_name, balance=0):\n",
    "        self.account_no = account_no\n",
    "        self.account_holder_name = account_holder_name\n",
    "        self.balance = balance\n",
    "        \n",
    "    def deposit(self, amount):\n",
    "        if amount > 0:\n",
    "            self.balance += amount\n",
    "            print(\"updated balance: \", self.balance)\n",
    "        else:\n",
    "            print(\"current balance: \", self.balance)\n",
    "    \n",
    "    def withdraw(self, amount):\n",
    "        if amount > self.balance:\n",
    "            print(\"insufficient balance\")\n",
    "        else:\n",
    "            self.balance -= amount\n",
    "            print(\"updated balance: \", self.balance)\n",
    "            \n",
    "    def acc_details(self):\n",
    "        print(\"account number: \", self.account_no) \n",
    "        print(\"account_holder_name: \", self.account_holder_name)\n",
    "        print(\"balance: \", self.balance)"
   ]
  },
  {
   "cell_type": "code",
   "execution_count": 26,
   "id": "730a9d82-49ea-4bed-9f3b-6988f9eaca8c",
   "metadata": {},
   "outputs": [],
   "source": [
    "person1 = bank_account(\"12345\", \"shubhankar\", 100)"
   ]
  },
  {
   "cell_type": "code",
   "execution_count": 27,
   "id": "4ec824f5-36ff-439f-bad2-a7969d6d3318",
   "metadata": {},
   "outputs": [
    {
     "name": "stdout",
     "output_type": "stream",
     "text": [
      "updated balance:  150\n"
     ]
    }
   ],
   "source": [
    "person1.deposit(50)"
   ]
  },
  {
   "cell_type": "code",
   "execution_count": 28,
   "id": "1d8fc6f0-46d7-4171-a331-c94e09c81f01",
   "metadata": {},
   "outputs": [
    {
     "name": "stdout",
     "output_type": "stream",
     "text": [
      "updated balance:  90\n"
     ]
    }
   ],
   "source": [
    "person1.withdraw(60)"
   ]
  },
  {
   "cell_type": "code",
   "execution_count": 29,
   "id": "fe60e347-90af-43d5-b21f-6ad09e00f7e2",
   "metadata": {},
   "outputs": [
    {
     "name": "stdout",
     "output_type": "stream",
     "text": [
      "account number:  12345\n",
      "account_holder_name:  shubhankar\n",
      "balance:  90\n"
     ]
    }
   ],
   "source": [
    "person1.acc_details()"
   ]
  },
  {
   "cell_type": "code",
   "execution_count": null,
   "id": "57ac6ee1-2dce-4277-b3e4-9b181b49247f",
   "metadata": {},
   "outputs": [],
   "source": []
  },
  {
   "cell_type": "raw",
   "id": "7fb25a07-200a-4534-9fea-2a4c60212f59",
   "metadata": {},
   "source": [
    "Problem 2: Employee Management Create a class representing an employee with attributes like employee ID, name, and salary. Implement methods to calculate the yearly bonus and display employee details."
   ]
  },
  {
   "cell_type": "code",
   "execution_count": 43,
   "id": "339a362a-1214-440d-86c3-3d1b6d8a32a6",
   "metadata": {},
   "outputs": [],
   "source": [
    "class employee:\n",
    "    def __init__(self, emp_ID, emp_name, salary):\n",
    "        self.emp_ID = emp_ID\n",
    "        self.emp_name = emp_name\n",
    "        self.salary = salary\n",
    "    \n",
    "    def yearly_bonus(self):\n",
    "        print(\"yearly bonus :\", self.salary*(20/100))\n",
    "        \n",
    "    def emp_details(self):\n",
    "        print(\"employee ID: \", self.emp_ID) \n",
    "        print(\"employee name: \", self.emp_name)\n",
    "        print(\"employee salary: \", self.salary)\n",
    "        print(\"yearly bonus: \", self.salary*(20/100))"
   ]
  },
  {
   "cell_type": "code",
   "execution_count": 53,
   "id": "e20661d0-dc58-4bea-93a7-710c4b1e384c",
   "metadata": {},
   "outputs": [],
   "source": [
    "emp1 = employee(12345, 'shubhankar', 1000000)"
   ]
  },
  {
   "cell_type": "code",
   "execution_count": 54,
   "id": "0748c44d-54d4-4c92-9b1a-340c3ac1a25b",
   "metadata": {},
   "outputs": [
    {
     "name": "stdout",
     "output_type": "stream",
     "text": [
      "yearly bonus : 200000.0\n"
     ]
    }
   ],
   "source": [
    "emp1.yearly_bonus()"
   ]
  },
  {
   "cell_type": "code",
   "execution_count": 55,
   "id": "1a40592a-1a31-40b3-a0d9-4670a77c5be9",
   "metadata": {},
   "outputs": [
    {
     "name": "stdout",
     "output_type": "stream",
     "text": [
      "employee ID:  12345\n",
      "employee name:  shubhankar\n",
      "employee salary:  1000000\n",
      "yearly bonus:  200000.0\n"
     ]
    }
   ],
   "source": [
    "emp1.emp_details()"
   ]
  },
  {
   "cell_type": "code",
   "execution_count": null,
   "id": "67febb52-ab1b-415c-b58c-57e785bafae9",
   "metadata": {},
   "outputs": [],
   "source": []
  },
  {
   "cell_type": "raw",
   "id": "68b78dcd-eab3-42dc-a49e-74527f0eb00e",
   "metadata": {},
   "source": [
    "Problem 3: Vehicle Rental Create a class representing a vehicle rental system. Implement methods to rent a vehicle, return a vehicle, and display available vehicles."
   ]
  },
  {
   "cell_type": "code",
   "execution_count": 61,
   "id": "bd6b6c1b-f45c-401a-85ba-f41dae5138b2",
   "metadata": {},
   "outputs": [],
   "source": [
    "class vehicle_rental_system:\n",
    "    def __init__(self):\n",
    "        self.available_vehicles = [\"mercedes\", \"audo\", \"bmw\", \"hyundai\", \"wolkswagen\" ]\n",
    "     \n",
    "    def add_vehicle(self, vehicle):\n",
    "        self.available_vehicles.append(vehicle)\n",
    "        print(f\"{vehicle} has been added to available vehicles list\")\n",
    "        print(\"current available  vehicles: \", self.available_vehicles)\n",
    "        \n",
    "    def rent_vehicle(self, vehicle):\n",
    "        if vehicle in self.available_vehicles:\n",
    "            self.available_vehicles.remove(vehicle)\n",
    "            print(\"vehicle out for rent named: \", vehicle)\n",
    "        else:\n",
    "            print(\"not currently available: \", vehicle)\n",
    "    \n",
    "    def return_vehicle(self, vehicle):\n",
    "        if vehicle:\n",
    "            self.available_vehicles.append(vehicle)\n",
    "            print(\"vehicle returned named: \", vehicle)\n",
    "        else:\n",
    "            print(\"invalid!! please provide a valid vehicle\")"
   ]
  },
  {
   "cell_type": "code",
   "execution_count": 62,
   "id": "ba0e73e0-278f-4b20-b7f5-426747aaad85",
   "metadata": {},
   "outputs": [],
   "source": [
    "rent1 = vehicle_rental_system()"
   ]
  },
  {
   "cell_type": "code",
   "execution_count": 63,
   "id": "47a64ff5-b762-41a4-bcb9-8b01e2d6485f",
   "metadata": {},
   "outputs": [
    {
     "name": "stdout",
     "output_type": "stream",
     "text": [
      "honda has been added to available vehicles list\n",
      "current available  vehicles:  ['mercedes', 'audo', 'bmw', 'hyundai', 'wolkswagen', 'honda']\n"
     ]
    }
   ],
   "source": [
    "rent1.add_vehicle(\"honda\")"
   ]
  },
  {
   "cell_type": "code",
   "execution_count": 64,
   "id": "00aa437c-a6f5-44d5-b6ed-03f35832a62c",
   "metadata": {},
   "outputs": [
    {
     "name": "stdout",
     "output_type": "stream",
     "text": [
      "vehicle out for rent named:  bmw\n"
     ]
    }
   ],
   "source": [
    "rent1.rent_vehicle(\"bmw\")"
   ]
  },
  {
   "cell_type": "code",
   "execution_count": 65,
   "id": "1b6a6647-478c-48a4-b6d4-059e678c291f",
   "metadata": {},
   "outputs": [
    {
     "name": "stdout",
     "output_type": "stream",
     "text": [
      "not currently available:  bmw\n"
     ]
    }
   ],
   "source": [
    "rent1.rent_vehicle(\"bmw\")"
   ]
  },
  {
   "cell_type": "code",
   "execution_count": 66,
   "id": "e7ff05b6-030e-401c-8b7a-1096bd05be78",
   "metadata": {},
   "outputs": [
    {
     "name": "stdout",
     "output_type": "stream",
     "text": [
      "vehicle returned named:  bmw\n"
     ]
    }
   ],
   "source": [
    "rent1.return_vehicle(\"bmw\")"
   ]
  },
  {
   "cell_type": "code",
   "execution_count": 68,
   "id": "fd4e50f3-71b6-49df-847c-10a1137e5da8",
   "metadata": {},
   "outputs": [
    {
     "data": {
      "text/plain": [
       "['mercedes', 'audo', 'hyundai', 'wolkswagen', 'honda', 'bmw']"
      ]
     },
     "execution_count": 68,
     "metadata": {},
     "output_type": "execute_result"
    }
   ],
   "source": [
    "rent1.available_vehicles"
   ]
  },
  {
   "cell_type": "code",
   "execution_count": null,
   "id": "47763480-7dd5-4461-b213-bd7995e95b98",
   "metadata": {},
   "outputs": [],
   "source": []
  },
  {
   "cell_type": "raw",
   "id": "f359706e-6101-437c-988c-75a726138e2f",
   "metadata": {},
   "source": [
    "Problem 4: Library Catalog Create classes representing a library and a book. Implement methods to add books to the library, borrow books, and display available books."
   ]
  },
  {
   "cell_type": "code",
   "execution_count": 1,
   "id": "a3a53f80-f3c0-4801-bf59-644047b11bdc",
   "metadata": {},
   "outputs": [],
   "source": [
    "class library:\n",
    "    def __init__(self):\n",
    "        self.books = [\"harry potter\", \"shakespear verses\", \"chetan bhagat\"]\n",
    "        \n",
    "    def add_book(self, book):\n",
    "        self.books.append(book)\n",
    "        print(\"library updated: \", self.books)\n",
    "    \n",
    "    def borrow(self, book):\n",
    "        if book in self.books:\n",
    "            self.books.remove(book)\n",
    "            print(\"the name of borrowed book is: \", book)\n",
    "        else:\n",
    "            print(\"book not found in the library\")\n",
    "    \n",
    "    def display(self):\n",
    "        print(\"book currently present in the library: \", self.books)    "
   ]
  },
  {
   "cell_type": "code",
   "execution_count": 2,
   "id": "6f19d6a5-11a6-4696-b673-6e453a928b56",
   "metadata": {},
   "outputs": [],
   "source": [
    "student1 = library()"
   ]
  },
  {
   "cell_type": "code",
   "execution_count": 3,
   "id": "b714131d-f0c8-471b-8686-dc9c8ac626d1",
   "metadata": {},
   "outputs": [
    {
     "name": "stdout",
     "output_type": "stream",
     "text": [
      "library updated:  ['harry potter', 'shakespear verses', 'chetan bhagat', 'encyclopedia']\n"
     ]
    }
   ],
   "source": [
    "student1.add_book(\"encyclopedia\")"
   ]
  },
  {
   "cell_type": "code",
   "execution_count": 4,
   "id": "2deae704-b743-452d-bac6-fc182a218b6e",
   "metadata": {},
   "outputs": [
    {
     "name": "stdout",
     "output_type": "stream",
     "text": [
      "the name of borrowed book is:  harry potter\n"
     ]
    }
   ],
   "source": [
    "student1.borrow(\"harry potter\")"
   ]
  },
  {
   "cell_type": "code",
   "execution_count": 5,
   "id": "e8aae31a-1f1c-4ad0-8cfc-9102517a6620",
   "metadata": {},
   "outputs": [
    {
     "name": "stdout",
     "output_type": "stream",
     "text": [
      "book currently present in the library:  ['shakespear verses', 'chetan bhagat', 'encyclopedia']\n"
     ]
    }
   ],
   "source": [
    "student1.display()"
   ]
  },
  {
   "cell_type": "code",
   "execution_count": null,
   "id": "5114535b-36f8-4bcb-ae6b-009c5c0af9e0",
   "metadata": {},
   "outputs": [],
   "source": []
  },
  {
   "cell_type": "raw",
   "id": "4251d436-801e-4380-9095-ce9467380b3a",
   "metadata": {},
   "source": [
    "Problem 5: Product Inventory Create classes representing a product and an inventory system. Implement methods to add products to the inventory, update product quantity, and display available products."
   ]
  },
  {
   "cell_type": "code",
   "execution_count": 1,
   "id": "32b01d94-9f8e-4537-9c1c-995bb787c4b7",
   "metadata": {},
   "outputs": [
    {
     "name": "stdout",
     "output_type": "stream",
     "text": [
      "Laptop has been added to the inventory.\n",
      "Smartphone has been added to the inventory.\n",
      "\n",
      "Available Products:\n",
      "Product ID: 1\n",
      "Name: Laptop\n",
      "Price: $999.99\n",
      "Quantity: 10\n",
      "Product ID: 2\n",
      "Name: Smartphone\n",
      "Price: $499.99\n",
      "Quantity: 20\n",
      "Quantity of Laptop has been updated to 15.\n",
      "\n",
      "Available Products after Quantity Update:\n",
      "Product ID: 1\n",
      "Name: Laptop\n",
      "Price: $999.99\n",
      "Quantity: 15\n",
      "Product ID: 2\n",
      "Name: Smartphone\n",
      "Price: $499.99\n",
      "Quantity: 20\n"
     ]
    }
   ],
   "source": [
    "class Product:\n",
    "    def __init__(self, product_id, name, price, quantity):\n",
    "        self.product_id = product_id\n",
    "        self.name = name\n",
    "        self.price = price\n",
    "        self.quantity = quantity\n",
    "\n",
    "    def update_quantity(self, new_quantity):\n",
    "        self.quantity = new_quantity\n",
    "        return f\"Quantity of {self.name} has been updated to {new_quantity}.\"\n",
    "\n",
    "    def __str__(self):\n",
    "        return f\"Product ID: {self.product_id}\\nName: {self.name}\\nPrice: ${self.price:.2f}\\nQuantity: {self.quantity}\"\n",
    "\n",
    "class Inventory:\n",
    "    def __init__(self):\n",
    "        self.products = []\n",
    "\n",
    "    def add_product(self, product):\n",
    "        self.products.append(product)\n",
    "        return f\"{product.name} has been added to the inventory.\"\n",
    "\n",
    "    def display_available_products(self):\n",
    "        return self.products\n",
    "\n",
    "product1 = Product(1, \"Laptop\", 999.99, 10)\n",
    "product2 = Product(2, \"Smartphone\", 499.99, 20)\n",
    "\n",
    "inventory_system = Inventory()\n",
    "\n",
    "print(inventory_system.add_product(product1))\n",
    "print(inventory_system.add_product(product2))\n",
    "\n",
    "print(\"\\nAvailable Products:\")\n",
    "available_products = inventory_system.display_available_products()\n",
    "for product in available_products:\n",
    "    print(product)\n",
    "\n",
    "print(product1.update_quantity(15))\n",
    "\n",
    "print(\"\\nAvailable Products after Quantity Update:\")\n",
    "available_products = inventory_system.display_available_products()\n",
    "for product in available_products:\n",
    "    print(product)\n"
   ]
  },
  {
   "cell_type": "code",
   "execution_count": null,
   "id": "8846b8a5-144a-4c2f-a7ce-20931da309e3",
   "metadata": {},
   "outputs": [],
   "source": []
  },
  {
   "cell_type": "raw",
   "id": "670c1ea5-ac0f-427c-90d6-25cf101e5372",
   "metadata": {},
   "source": [
    "Problem 6: Shape Calculation Create a class representing a shape with attributes like length, width, and height. Implement methods to calculate the area and perimeter of the shape."
   ]
  },
  {
   "cell_type": "code",
   "execution_count": 13,
   "id": "c245b819-64e9-492d-8daf-3850da944809",
   "metadata": {},
   "outputs": [],
   "source": [
    "class rectangle:\n",
    "    def __init__(self, length, width):\n",
    "        self.length = length\n",
    "        self.width = width\n",
    "    \n",
    "    def area(self):\n",
    "        print(\"Area of rectangle : \", self.length*self.width, \" unit square\")\n",
    "    \n",
    "    def perimeter(self):\n",
    "        print(\"Perimeter of rectangle : \", 2*self.length + 2*self.width, \" unit\")\n",
    "\n",
    "class square():\n",
    "    def __init__(self, length):\n",
    "        self.length = length\n",
    "    \n",
    "    def area(self):\n",
    "        print(\"Area of square : \", self.length*self.length, \" unit square\")\n",
    "    \n",
    "    def perimeter(self):\n",
    "        print(\"Perimeter of square : \", 4*self.length, \" unit\")\n",
    "\n",
    "class triangle:\n",
    "    def __init__(self, base, height):\n",
    "        self.base = base\n",
    "        self.height = height\n",
    "        \n",
    "    def area(self):\n",
    "        print(\"Area of triangle : \", 1/2*self.base*self.height, \" unit square\")\n",
    "        \n",
    "    def perimeter(self):\n",
    "        hypotenuse = (self.base**2 + self.height**2)**0.5\n",
    "        print(\"Perimeter of triangle : \", self.base + self.height + hypotenuse, \" unit\")"
   ]
  },
  {
   "cell_type": "code",
   "execution_count": 14,
   "id": "598e34d5-c34e-4afb-9369-bc3a21d6800c",
   "metadata": {},
   "outputs": [],
   "source": [
    "triangle1 = triangle(3, 4)"
   ]
  },
  {
   "cell_type": "code",
   "execution_count": 15,
   "id": "715a1f38-1526-46a5-826e-cf85f75e85ce",
   "metadata": {},
   "outputs": [
    {
     "name": "stdout",
     "output_type": "stream",
     "text": [
      "Perimeter of triangle :  12.0  unit\n",
      "Area of triangle :  6.0  unit square\n"
     ]
    }
   ],
   "source": [
    "triangle1.perimeter()\n",
    "triangle1.area()"
   ]
  },
  {
   "cell_type": "code",
   "execution_count": 16,
   "id": "0c8b9a33-efc2-425d-bc41-f540136edbab",
   "metadata": {},
   "outputs": [],
   "source": [
    "square1 = square(5)"
   ]
  },
  {
   "cell_type": "code",
   "execution_count": 17,
   "id": "3ccdaa34-2a61-4b26-9af9-def3d9b50430",
   "metadata": {},
   "outputs": [
    {
     "name": "stdout",
     "output_type": "stream",
     "text": [
      "Perimeter of square :  20  unit\n",
      "Area of square :  25  unit square\n"
     ]
    }
   ],
   "source": [
    "square1.perimeter()\n",
    "square1.area()"
   ]
  },
  {
   "cell_type": "code",
   "execution_count": 20,
   "id": "841af6b8-2565-44bf-98c6-809bcc9f533b",
   "metadata": {},
   "outputs": [],
   "source": [
    "rectangle1 = rectangle(3, 5)"
   ]
  },
  {
   "cell_type": "code",
   "execution_count": 21,
   "id": "6d446777-444e-4de0-b92b-64e4baf6385a",
   "metadata": {},
   "outputs": [
    {
     "name": "stdout",
     "output_type": "stream",
     "text": [
      "Perimeter of rectangle :  16  unit\n",
      "Area of rectangle :  15  unit square\n"
     ]
    }
   ],
   "source": [
    "rectangle1.perimeter()\n",
    "rectangle1.area()"
   ]
  },
  {
   "cell_type": "code",
   "execution_count": null,
   "id": "ac3a4572-0215-4812-a8e7-25e35b38ea31",
   "metadata": {},
   "outputs": [],
   "source": []
  },
  {
   "cell_type": "raw",
   "id": "9d452588-01ca-4c0d-bbb3-95fc5db61859",
   "metadata": {},
   "source": [
    "Problem 7: Student Management Create a class representing a student with attributes like student ID, name, and grades. Implement methods to calculate the average grade and display student details."
   ]
  },
  {
   "cell_type": "code",
   "execution_count": 1,
   "id": "26127200-7efb-4ac2-a0d4-10378ebb0e65",
   "metadata": {},
   "outputs": [],
   "source": [
    "class student:\n",
    "    def __init__(self, s_id, s_name, s_grades):\n",
    "        self.s_id = s_id\n",
    "        self.s_name = s_name\n",
    "        self.s_grades = s_grades\n",
    "    \n",
    "    def average_grade(self):\n",
    "        sum = 0\n",
    "        for i in self.s_grades:\n",
    "            sum += i\n",
    "        avg = sum/len(self.s_grades)\n",
    "        print(f\"average of {self.s_name}'s grades is: {avg}\")\n",
    "    \n",
    "    def student_details(self):\n",
    "        print(\"student ID: \", self.s_id)\n",
    "        print(\"student name: \", self.s_name)\n",
    "        print(\"student grades: \", self.s_grades)"
   ]
  },
  {
   "cell_type": "code",
   "execution_count": 2,
   "id": "5f918d64-8d8d-4342-a76c-3cf668810ef1",
   "metadata": {},
   "outputs": [],
   "source": [
    "student1 = student(1, \"shubhankar\", [80, 88, 91, 85, 95])"
   ]
  },
  {
   "cell_type": "code",
   "execution_count": 3,
   "id": "59abd87b-feb1-4b80-b039-e920cbb9b296",
   "metadata": {},
   "outputs": [
    {
     "name": "stdout",
     "output_type": "stream",
     "text": [
      "average of shubhankar's grades is: 87.8\n"
     ]
    }
   ],
   "source": [
    "student1.average_grade()"
   ]
  },
  {
   "cell_type": "code",
   "execution_count": 4,
   "id": "bbd7a85a-3f46-406d-9bbe-68104963f956",
   "metadata": {},
   "outputs": [
    {
     "name": "stdout",
     "output_type": "stream",
     "text": [
      "student ID:  1\n",
      "student name:  shubhankar\n",
      "student grades:  [80, 88, 91, 85, 95]\n"
     ]
    }
   ],
   "source": [
    "student1.student_details()"
   ]
  },
  {
   "cell_type": "code",
   "execution_count": null,
   "id": "f4f98bf2-1525-4528-9ac5-1d769c964870",
   "metadata": {},
   "outputs": [],
   "source": []
  },
  {
   "cell_type": "raw",
   "id": "5fc2008a-afaf-496b-8f03-afbe855a0fe4",
   "metadata": {},
   "source": [
    "Problem 8: Email Management Create a class representing an email with attributes like sender, recipient, and subject. Implement methods to send an email and display email details."
   ]
  },
  {
   "cell_type": "code",
   "execution_count": 6,
   "id": "ef3b2ff8-54a0-4253-b23a-4b11fae8c5e7",
   "metadata": {},
   "outputs": [],
   "source": [
    "class email:\n",
    "    def __init__(self, sender, recipient, subject):\n",
    "        self.sender = sender\n",
    "        self.recipient = recipient\n",
    "        self.subject = subject\n",
    "        \n",
    "    def send_email(self):\n",
    "        print(f\"mail send to '{self.recipient}' with subject '{self.subject}' by '{self.sender}'\")\n",
    "    \n",
    "    def email_details(self):\n",
    "        print(\"sender's email address: \", self.sender)\n",
    "        print(\"recipient's email address: \", self.recipient)\n",
    "        print(\"email subject: \", self.subject)"
   ]
  },
  {
   "cell_type": "code",
   "execution_count": 7,
   "id": "b299dbf2-10a6-4924-8085-7f78128cb9b2",
   "metadata": {},
   "outputs": [],
   "source": [
    "mail1 = email(\"123@gmail.com\", \"xyz@gmail.com\", \"sick leave application\")"
   ]
  },
  {
   "cell_type": "code",
   "execution_count": 8,
   "id": "fc362560-f8e8-401a-8611-a734ec718828",
   "metadata": {},
   "outputs": [
    {
     "name": "stdout",
     "output_type": "stream",
     "text": [
      "mail send to 'xyz@gmail.com' with subject 'sick leave application' by '123@gmail.com'\n"
     ]
    }
   ],
   "source": [
    "mail1.send_email()"
   ]
  },
  {
   "cell_type": "code",
   "execution_count": 9,
   "id": "a8d4c1f4-f97c-49ef-a213-a09aeffa8611",
   "metadata": {},
   "outputs": [
    {
     "name": "stdout",
     "output_type": "stream",
     "text": [
      "sender's email address:  123@gmail.com\n",
      "recipient's email address:  xyz@gmail.com\n",
      "email subject:  sick leave application\n"
     ]
    }
   ],
   "source": [
    "mail1.email_details()"
   ]
  },
  {
   "cell_type": "code",
   "execution_count": null,
   "id": "d7a8a83b-d1d5-42e5-9a9b-3f76376e5e34",
   "metadata": {},
   "outputs": [],
   "source": []
  },
  {
   "cell_type": "raw",
   "id": "d7e48314-d47b-4fd1-af41-2fe9d59e2c2d",
   "metadata": {},
   "source": [
    "Problem 9: Social Media Profile Create a class representing a social media profile with attributes like username and posts. Implement methods to add posts, display posts, and search for posts by keyword."
   ]
  },
  {
   "cell_type": "code",
   "execution_count": 14,
   "id": "ecb6b09f-6b76-416c-ae4b-429c56afbfe0",
   "metadata": {},
   "outputs": [],
   "source": [
    "class social_media_profile:\n",
    "    def __init__(self, username):\n",
    "        self.username = username\n",
    "        self.posts = []\n",
    "    \n",
    "    def add_post(self, post):\n",
    "        if post not in self.posts:\n",
    "            self.posts.append(post)\n",
    "            print(\"updated profile: \", self.posts)\n",
    "        else:\n",
    "            print(\"post already present in the profile\")\n",
    "            \n",
    "    def display_posts(self):\n",
    "        print(self.posts)\n",
    "    \n",
    "    def search_post_by_key(self, key):\n",
    "        filtered_posts = []\n",
    "        for i in self.posts:\n",
    "            if key == i[0]:\n",
    "                filtered_posts.append(i)\n",
    "        print(filtered_posts)"
   ]
  },
  {
   "cell_type": "code",
   "execution_count": 15,
   "id": "f3ef5ed0-08e5-4bf7-b4e4-d864220a9887",
   "metadata": {},
   "outputs": [
    {
     "name": "stdout",
     "output_type": "stream",
     "text": [
      "updated profile:  ['dog']\n",
      "updated profile:  ['dog', 'selfie']\n",
      "updated profile:  ['dog', 'selfie', 'starbucks']\n",
      "updated profile:  ['dog', 'selfie', 'starbucks', 'flower']\n"
     ]
    }
   ],
   "source": [
    "user1 = social_media_profile(\"shubhankar\")\n",
    "user1.add_post(\"dog\")\n",
    "user1.add_post(\"selfie\")\n",
    "user1.add_post(\"starbucks\")\n",
    "user1.add_post(\"flower\")"
   ]
  },
  {
   "cell_type": "code",
   "execution_count": 16,
   "id": "6a25e9b7-391e-4f89-8afd-80948631f0db",
   "metadata": {},
   "outputs": [
    {
     "name": "stdout",
     "output_type": "stream",
     "text": [
      "['selfie', 'starbucks']\n"
     ]
    }
   ],
   "source": [
    "user1.search_post_by_key('s')"
   ]
  },
  {
   "cell_type": "code",
   "execution_count": 17,
   "id": "d4d6c95a-0e62-4a6a-9475-bc2d1bab87a2",
   "metadata": {},
   "outputs": [
    {
     "name": "stdout",
     "output_type": "stream",
     "text": [
      "['dog', 'selfie', 'starbucks', 'flower']\n"
     ]
    }
   ],
   "source": [
    "user1.display_posts()"
   ]
  },
  {
   "cell_type": "code",
   "execution_count": null,
   "id": "87ef39b5-e47e-4988-9a1a-2d29c76debcb",
   "metadata": {},
   "outputs": [],
   "source": []
  },
  {
   "cell_type": "raw",
   "id": "5f236f35-1cc6-42dc-8db2-b64f70a7cf5c",
   "metadata": {},
   "source": [
    "Problem 10: ToDo List Create a class representing a ToDo list with attributes like tasks and due dates. Implement methods to add tasks, mark tasks as completed, and display pending tasks."
   ]
  },
  {
   "cell_type": "code",
   "execution_count": 32,
   "id": "a39a7104-0571-4c32-acd9-1cbc795d43d8",
   "metadata": {},
   "outputs": [],
   "source": [
    "class ToDo_list:\n",
    "    def __init__(self):\n",
    "        self.tasks = {1 : \"10 days\", 2 : \"9 days\"}\n",
    "        \n",
    "    def add_task(self, key, value):\n",
    "        self.tasks[key] = value\n",
    "        \n",
    "    def task_completed(self, key):\n",
    "        print(\"task completed with due date: \", self.tasks[key])\n",
    "        self.tasks.pop(key)\n",
    "        \n",
    "    def pending_tasks(self):\n",
    "        print(self.tasks)"
   ]
  },
  {
   "cell_type": "code",
   "execution_count": 33,
   "id": "0c2971b6-e727-47b0-89e5-c8e484ccd37b",
   "metadata": {},
   "outputs": [],
   "source": [
    "task1 = ToDo_list()"
   ]
  },
  {
   "cell_type": "code",
   "execution_count": 34,
   "id": "7e874a91-9453-47af-a7a4-2ec7354976a6",
   "metadata": {},
   "outputs": [
    {
     "name": "stdout",
     "output_type": "stream",
     "text": [
      "{1: '10 days', 2: '9 days'}\n"
     ]
    }
   ],
   "source": [
    "task1.pending_tasks()"
   ]
  },
  {
   "cell_type": "code",
   "execution_count": 35,
   "id": "138e6df2-491c-456c-8d78-377dc6553b9d",
   "metadata": {},
   "outputs": [],
   "source": [
    "task1.add_task(3, \"8 days\")"
   ]
  },
  {
   "cell_type": "code",
   "execution_count": 36,
   "id": "63a7e952-56c0-4d06-b294-e553899863af",
   "metadata": {},
   "outputs": [
    {
     "name": "stdout",
     "output_type": "stream",
     "text": [
      "{1: '10 days', 2: '9 days', 3: '8 days'}\n"
     ]
    }
   ],
   "source": [
    "task1.pending_tasks()"
   ]
  },
  {
   "cell_type": "code",
   "execution_count": 37,
   "id": "eef5373f-439d-4155-bacb-6987c9d1919f",
   "metadata": {},
   "outputs": [
    {
     "name": "stdout",
     "output_type": "stream",
     "text": [
      "task completed with due date:  10 days\n"
     ]
    }
   ],
   "source": [
    "task1.task_completed(1)"
   ]
  },
  {
   "cell_type": "code",
   "execution_count": 38,
   "id": "6a970112-2175-4972-aaec-318e2d6eeeb8",
   "metadata": {},
   "outputs": [
    {
     "name": "stdout",
     "output_type": "stream",
     "text": [
      "{2: '9 days', 3: '8 days'}\n"
     ]
    }
   ],
   "source": [
    "task1.pending_tasks()"
   ]
  },
  {
   "cell_type": "code",
   "execution_count": null,
   "id": "010092a7-836c-4e92-9d3c-402c801953c2",
   "metadata": {},
   "outputs": [],
   "source": []
  }
 ],
 "metadata": {
  "kernelspec": {
   "display_name": "Python 3 (ipykernel)",
   "language": "python",
   "name": "python3"
  },
  "language_info": {
   "codemirror_mode": {
    "name": "ipython",
    "version": 3
   },
   "file_extension": ".py",
   "mimetype": "text/x-python",
   "name": "python",
   "nbconvert_exporter": "python",
   "pygments_lexer": "ipython3",
   "version": "3.10.8"
  }
 },
 "nbformat": 4,
 "nbformat_minor": 5
}
